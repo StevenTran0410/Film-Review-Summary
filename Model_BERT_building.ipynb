{
 "cells": [
  {
   "cell_type": "code",
   "execution_count": 1,
   "metadata": {},
   "outputs": [],
   "source": [
    "import numpy as np\n",
    "import pandas as pd\n",
    "import re\n",
    "from nltk.corpus import stopwords\n",
    "from nltk.stem import WordNetLemmatizer"
   ]
  },
  {
   "cell_type": "code",
   "execution_count": 2,
   "metadata": {},
   "outputs": [],
   "source": [
    "def clean_text(text):\n",
    "    # Remove punctuation\n",
    "    text = re.sub(r'[^\\w\\s]', '', text)\n",
    "\n",
    "    # Convert to lowercase\n",
    "    text = text.lower()\n",
    "\n",
    "    # Remove numbers\n",
    "    text = re.sub(r'\\d+', '', text)\n",
    "\n",
    "    # Remove stop words\n",
    "    stop_words = set(stopwords.words('english'))\n",
    "    stop_words.update([\"mr\", \"ms\", \"mrs\", \"dr\", \"film\", \"movie\", \"really\", \"one\", \"TV\"])  # Add more stop words as needed\n",
    "    text = ' '.join(word for word in text.split() if word.lower() not in stop_words or word.lower() == \"not\")\n",
    "\n",
    "    # Remove 1-2 length words\n",
    "    text = ' '.join(word for word in text.split() if len(word) > 2)\n",
    "\n",
    "    # Remove double spaces\n",
    "    text = re.sub(r'\\s+', ' ', text)\n",
    "\n",
    "    # Lemmatization\n",
    "    lemmatizer = WordNetLemmatizer()\n",
    "    text = ' '.join(lemmatizer.lemmatize(word) for word in text.split())\n",
    "\n",
    "    return text"
   ]
  },
  {
   "cell_type": "code",
   "execution_count": 3,
   "metadata": {},
   "outputs": [],
   "source": [
    "def load_data(path=\"Dataset/Movies_and_TV_clean.pkl\"):\n",
    "    df = pd.read_pickle(path)\n",
    "    # Remove half of the reviews\n",
    "    df = df.sample(frac=0.5, random_state=0)\n",
    "    df = df.sample(frac=0.5, random_state=42)\n",
    "    df['reviewText'] = df['reviewText'].apply(clean_text)\n",
    "\n",
    "    reviews = np.array(df['reviewText'])\n",
    "    ratings = np.array(df['overall'])\n",
    "    \n",
    "    return reviews, ratings\n",
    "\n",
    "review, sentiment = load_data()\n",
    "MAX_WORDS = 400  # Maximum number of words allowed in a review\n",
    "\n",
    "# Cut reviews with more than 400 words to 400 words\n",
    "review = [r[:MAX_WORDS] if len(r.split()) > MAX_WORDS else r for r in review]"
   ]
  },
  {
   "cell_type": "code",
   "execution_count": 4,
   "metadata": {},
   "outputs": [
    {
     "name": "stderr",
     "output_type": "stream",
     "text": [
      "c:\\Users\\steve\\.conda\\envs\\global\\lib\\site-packages\\tqdm\\auto.py:21: TqdmWarning: IProgress not found. Please update jupyter and ipywidgets. See https://ipywidgets.readthedocs.io/en/stable/user_install.html\n",
      "  from .autonotebook import tqdm as notebook_tqdm\n"
     ]
    }
   ],
   "source": [
    "from transformers import BertTokenizer\n",
    "import tensorflow as tf\n",
    "from keras.utils import to_categorical\n",
    "\n",
    "def preprocess_data(reviews, sentiment):\n",
    "    # Initialize the BERT tokenizer\n",
    "    tokenizer = BertTokenizer.from_pretrained('prajjwal1/bert-tiny')\n",
    "    vocab_size = len(tokenizer.vocab)\n",
    "\n",
    "    # Tokenization and Conversion to Input IDs\n",
    "    input_ids = []\n",
    "    max_sequence_length = 400  # Set your desired sequence length\n",
    "\n",
    "    for review in reviews:\n",
    "        encoded_dict = tokenizer.encode_plus(\n",
    "            review,\n",
    "            truncation=True,\n",
    "            max_length=max_sequence_length,\n",
    "            padding='max_length',\n",
    "            return_attention_mask=True,\n",
    "            return_tensors='tf'\n",
    "        )\n",
    "        input_ids.append(encoded_dict['input_ids'])\n",
    "\n",
    "    input_ids = tf.concat(input_ids, axis=0)\n",
    "\n",
    "    # Encoding Labels\n",
    "    sentiment_encoded = to_categorical(np.array(sentiment) - 1) # Convert sentiment labels to categorical (0-based index)\n",
    "\n",
    "    return np.array(input_ids), sentiment_encoded, vocab_size\n",
    "\n",
    "input_ids, sentiment_encoded, vocab_size = preprocess_data(review, sentiment)"
   ]
  },
  {
   "cell_type": "code",
   "execution_count": 5,
   "metadata": {},
   "outputs": [],
   "source": [
    "from sklearn.model_selection import train_test_split\n",
    "\n",
    "# Split the data using train_test_split\n",
    "x_train, x_test, y_train, y_test = train_test_split(\n",
    "    input_ids, sentiment_encoded,\n",
    "    test_size=0.2, stratify=sentiment_encoded\n",
    ")"
   ]
  },
  {
   "cell_type": "code",
   "execution_count": 6,
   "metadata": {},
   "outputs": [],
   "source": [
    "from keras import backend as K\n",
    "def star_mae(y_true, y_pred):\n",
    "    true_star = K.sum(y_true * K.arange(0, 5, dtype=\"float32\"), axis=-1)\n",
    "    pred_star = K.sum(y_pred * K.arange(0, 5, dtype=\"float32\"), axis=-1)\n",
    "    mae = K.mean(K.abs(true_star - pred_star))\n",
    "    return mae"
   ]
  },
  {
   "cell_type": "code",
   "execution_count": 11,
   "metadata": {},
   "outputs": [
    {
     "name": "stdout",
     "output_type": "stream",
     "text": [
      "Model: \"BERTTF\"\n",
      "_________________________________________________________________\n",
      " Layer (type)                Output Shape              Param #   \n",
      "=================================================================\n",
      " BERTTF_input (InputLayer)   [(None, 400)]             0         \n",
      "                                                                 \n",
      " bert_embedding_tf_1 (BERTEm  (None, 400, 64)          1953408   \n",
      " beddingTF)                                                      \n",
      "                                                                 \n",
      " sequential_4 (Sequential)   (None, 400, 64)           107968    \n",
      "                                                                 \n",
      " sequential_5 (Sequential)   (None, 400, 64)           107968    \n",
      "                                                                 \n",
      " sequential_6 (Sequential)   (None, 400, 64)           107968    \n",
      "                                                                 \n",
      " sequential_7 (Sequential)   (None, 400, 64)           107968    \n",
      "                                                                 \n",
      " flatten_1 (Flatten)         (None, 25600)             0         \n",
      "                                                                 \n",
      " dense_2 (Dense)             (None, 512)               13107712  \n",
      "                                                                 \n",
      " dense_3 (Dense)             (None, 128)               65664     \n",
      "                                                                 \n",
      " BERTTF_output (Dense)       (None, 5)                 645       \n",
      "                                                                 \n",
      "=================================================================\n",
      "Total params: 15,559,301\n",
      "Trainable params: 15,559,301\n",
      "Non-trainable params: 0\n",
      "_________________________________________________________________\n"
     ]
    }
   ],
   "source": [
    "from BERT_Keras import BERTTF\n",
    "seq_len = 400\n",
    "num_layers = 4\n",
    "num_heads = 4\n",
    "key_dim = 64\n",
    "ff_dim = 320\n",
    "dropout = 0.1\n",
    "num_class = 5\n",
    "vocab_size = 30522\n",
    "\n",
    "model = BERTTF(num_layers, num_heads, seq_len, key_dim, ff_dim, vocab_size, num_class, dropout = dropout)\n",
    "model.compile(loss='categorical_crossentropy', optimizer='adam', metrics=star_mae)\n",
    "model.summary()\n",
    "# model.load_weights('Weights/Sentiment Analysis Transformer_Build.h5')  "
   ]
  },
  {
   "cell_type": "code",
   "execution_count": 8,
   "metadata": {},
   "outputs": [],
   "source": [
    "from keras.callbacks import EarlyStopping\n",
    "early_stopping = EarlyStopping(\n",
    "    monitor='star_mae', \n",
    "    patience=2, \n",
    "    mode='min'\n",
    ")"
   ]
  },
  {
   "cell_type": "code",
   "execution_count": 12,
   "metadata": {},
   "outputs": [
    {
     "name": "stdout",
     "output_type": "stream",
     "text": [
      "Epoch 1/5\n",
      "3885/3885 [==============================] - 736s 188ms/step - loss: 1.2744 - star_mae: 0.7707 - val_loss: 1.1731 - val_star_mae: 0.7211\n",
      "Epoch 2/5\n",
      "3885/3885 [==============================] - 732s 188ms/step - loss: 1.0421 - star_mae: 0.6315 - val_loss: 1.0381 - val_star_mae: 0.6583\n",
      "Epoch 3/5\n",
      "3885/3885 [==============================] - 737s 190ms/step - loss: 0.9699 - star_mae: 0.5844 - val_loss: 1.0917 - val_star_mae: 0.6944\n",
      "Epoch 4/5\n",
      "3885/3885 [==============================] - 734s 189ms/step - loss: 0.9376 - star_mae: 0.5617 - val_loss: 1.0241 - val_star_mae: 0.6146\n",
      "Epoch 5/5\n",
      "3885/3885 [==============================] - 737s 190ms/step - loss: 0.9116 - star_mae: 0.5431 - val_loss: 1.0211 - val_star_mae: 0.6224\n"
     ]
    },
    {
     "data": {
      "text/plain": [
       "<keras.callbacks.History at 0x1d8b720c5e0>"
      ]
     },
     "execution_count": 12,
     "metadata": {},
     "output_type": "execute_result"
    }
   ],
   "source": [
    "model.fit(x_train, y_train,\n",
    "          epochs=5, \n",
    "          verbose=1,\n",
    "          validation_data=(x_test, y_test),\n",
    "          callbacks=[early_stopping]\n",
    ")"
   ]
  },
  {
   "cell_type": "code",
   "execution_count": 13,
   "metadata": {},
   "outputs": [],
   "source": [
    "#Save model\n",
    "model.save_weights('Weights/Sentiment Analysis Transformer_Build.h5')  "
   ]
  },
  {
   "cell_type": "code",
   "execution_count": 5,
   "metadata": {},
   "outputs": [],
   "source": [
    "from transformers import BertTokenizer\n",
    "\n",
    "def preprocessing_data(review, tokenizer = BertTokenizer.from_pretrained('prajjwal1/bert-tiny')):\n",
    "    encoded_dict = tokenizer.encode_plus(\n",
    "            review,\n",
    "            truncation=True,\n",
    "            max_length=400,\n",
    "            padding='max_length',\n",
    "            return_attention_mask=True,\n",
    "            return_tensors='tf'\n",
    "        )\n",
    "    \n",
    "    input_id = np.array(encoded_dict['input_ids'])\n",
    "    \n",
    "    return input_id"
   ]
  },
  {
   "cell_type": "code",
   "execution_count": 8,
   "metadata": {},
   "outputs": [
    {
     "name": "stdout",
     "output_type": "stream",
     "text": [
      "1/1 [==============================] - 4s 4s/step\n"
     ]
    },
    {
     "data": {
      "text/plain": [
       "5"
      ]
     },
     "execution_count": 8,
     "metadata": {},
     "output_type": "execute_result"
    }
   ],
   "source": [
    "star = [1, 2, 3, 4, 5]\n",
    "text = input()\n",
    "text = clean_text(text)\n",
    "input_id = preprocessing_data(text)\n",
    "result = np.argmax(model.predict(input_id))\n",
    "star[result]"
   ]
  }
 ],
 "metadata": {
  "kernelspec": {
   "display_name": "global",
   "language": "python",
   "name": "python3"
  },
  "language_info": {
   "codemirror_mode": {
    "name": "ipython",
    "version": 3
   },
   "file_extension": ".py",
   "mimetype": "text/x-python",
   "name": "python",
   "nbconvert_exporter": "python",
   "pygments_lexer": "ipython3",
   "version": "3.10.10"
  },
  "orig_nbformat": 4
 },
 "nbformat": 4,
 "nbformat_minor": 2
}
