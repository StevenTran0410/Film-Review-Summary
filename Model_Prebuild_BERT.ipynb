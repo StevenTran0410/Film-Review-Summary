{
 "cells": [
  {
   "cell_type": "code",
   "execution_count": 1,
   "metadata": {},
   "outputs": [],
   "source": [
    "import numpy as np\n",
    "import pandas as pd\n",
    "import re\n",
    "from nltk.corpus import stopwords\n",
    "from nltk.stem import WordNetLemmatizer\n",
    "import matplotlib.pyplot as plt\n",
    "import gzip"
   ]
  },
  {
   "cell_type": "code",
   "execution_count": null,
   "metadata": {},
   "outputs": [],
   "source": [
    "def parse(path):\n",
    "  g = gzip.open(path, 'rb')\n",
    "  for l in g:\n",
    "    yield eval(l)\n",
    "\n",
    "def getDF(path):\n",
    "  i = 0\n",
    "  df = {}\n",
    "  for d in parse(path):\n",
    "    df[i] = d\n",
    "    i += 1\n",
    "  return pd.DataFrame.from_dict(df, orient='index')\n",
    "\n",
    "def convert2pkl(path = \"Dataset/reviews_Movies_and_TV_5.json.gz\"):\\\n",
    "    \n",
    "    df = getDF(path)\n",
    "    df = df[['reviewText', 'overall']]\n",
    "    \n",
    "    # Remove half of the reviews\n",
    "    df = df.sample(frac=0.5, random_state=42)\n",
    "    \n",
    "    # Specify the pickle file path\n",
    "    pkl_path = \"Dataset/Movies_and_TV.pkl\"\n",
    "    \n",
    "    # Save the DataFrame as a pickle file\n",
    "    df.to_pickle(pkl_path)\n",
    "    \n",
    "    print(f\"Conversion complete. Pickle file saved at: {pkl_path}\")\n",
    "\n",
    "convert2pkl()"
   ]
  },
  {
   "cell_type": "code",
   "execution_count": 2,
   "metadata": {},
   "outputs": [],
   "source": [
    "def load_data(path=\"Dataset/Movies_and_TV.pkl\"):\n",
    "    df = pd.read_pickle(path)\n",
    "\n",
    "    reviews = np.array(df['reviewText'])\n",
    "    ratings = np.array(df['overall'])\n",
    "\n",
    "    low_rating_indices = np.where((ratings >= 1) & (ratings <= 2))[0]\n",
    "    reviews_1 = reviews[low_rating_indices]\n",
    "    ratings_1 = ratings[low_rating_indices]\n",
    "\n",
    "    # Filter out reviews shorter than 200 words\n",
    "    temp = df[df['reviewText'].apply(lambda x: len(x.split()) > 200)]\n",
    "    reviews = np.array(temp['reviewText'])\n",
    "    ratings = np.array(temp['overall'])\n",
    "\n",
    "    high_rating_indices = np.where((ratings >= 3) & (ratings <= 5))[0]\n",
    "    reviews_2 = reviews[high_rating_indices]\n",
    "    ratings_2 = ratings[high_rating_indices]\n",
    "\n",
    "    # Filter out reviews between 100 and 200 words\n",
    "    temp = df[df['reviewText'].apply(lambda x: len(x.split()) < 200 and len(x.split()) > 100)]\n",
    "    reviews = np.array(temp['reviewText'])\n",
    "    ratings = np.array(temp['overall'])\n",
    "\n",
    "    three_rating_indices = np.where((ratings == 3))[0]\n",
    "    random_indices = np.random.choice(three_rating_indices, size=35000, replace=False)\n",
    "    reviews_3 = reviews[random_indices]\n",
    "    ratings_3 = ratings[random_indices]\n",
    "\n",
    "    reviews = np.concatenate((reviews_1, reviews_2, reviews_3))\n",
    "    ratings = np.concatenate((ratings_1, ratings_2, ratings_3))\n",
    "\n",
    "    return reviews, ratings\n",
    "\n",
    "review, sentiment = load_data()\n",
    "MAX_WORDS = 1000  # Maximum number of words allowed in a review\n",
    "\n",
    "# Cut reviews with more than 400 words to 400 words\n",
    "review = [r[:MAX_WORDS] if len(r.split()) > MAX_WORDS else r for r in review]\n",
    "\n",
    "df = pd.DataFrame({'reviewText':review, 'overall':sentiment})\n",
    "df.to_pickle(\"Dataset/Movies_and_TV_clean.pkl\")"
   ]
  },
  {
   "cell_type": "code",
   "execution_count": 3,
   "metadata": {},
   "outputs": [
    {
     "data": {
      "image/png": "[encoded data removed]",
      "text/plain": [
       "<Figure size 640x480 with 1 Axes>"
      ]
     },
     "metadata": {},
     "output_type": "display_data"
    }
   ],
   "source": [
    "# Count the occurrences of each value\n",
    "unique_values, counts = np.unique(sentiment, return_counts=True)\n",
    "\n",
    "# Create x-axis values\n",
    "x = np.arange(len(unique_values))\n",
    "\n",
    "# Plot the counts as a bar plot\n",
    "plt.bar(x, counts, tick_label=unique_values, align='center')\n",
    "\n",
    "# Add labels and title\n",
    "plt.xlabel('Values')\n",
    "plt.ylabel('Count')\n",
    "plt.title('Value Counts')\n",
    "\n",
    "# Show the plot\n",
    "plt.show()"
   ]
  },
  {
   "cell_type": "code",
   "execution_count": 2,
   "metadata": {},
   "outputs": [],
   "source": [
    "def clean_text(text):\n",
    "    # Remove punctuation\n",
    "    text = re.sub(r'[^\\w\\s]', '', text)\n",
    "\n",
    "    # Convert to lowercase\n",
    "    text = text.lower()\n",
    "\n",
    "    # Remove numbers\n",
    "    text = re.sub(r'\\d+', '', text)\n",
    "\n",
    "    # Remove stop words\n",
    "    stop_words = set(stopwords.words('english'))\n",
    "    stop_words.update([\"mr\", \"ms\", \"mrs\", \"dr\", \"film\", \"movie\", \"really\", \"one\", \"TV\"])  # Add more stop words as needed\n",
    "    text = ' '.join(word for word in text.split() if word.lower() not in stop_words or word.lower() == \"not\")\n",
    "\n",
    "    # Remove 1-2 length words\n",
    "    text = ' '.join(word for word in text.split() if len(word) > 2)\n",
    "\n",
    "    # Remove double spaces\n",
    "    text = re.sub(r'\\s+', ' ', text)\n",
    "\n",
    "    # Lemmatization\n",
    "    lemmatizer = WordNetLemmatizer()\n",
    "    text = ' '.join(lemmatizer.lemmatize(word) for word in text.split())\n",
    "\n",
    "    return text"
   ]
  },
  {
   "cell_type": "code",
   "execution_count": 3,
   "metadata": {},
   "outputs": [],
   "source": [
    "def load_data(path=\"Dataset/Movies_and_TV_clean.pkl\"):\n",
    "    df = pd.read_pickle(path)\n",
    "    # Remove half of the reviews\n",
    "    df = df.sample(frac=0.5, random_state=4)\n",
    "    df = df.sample(frac=0.5, random_state=42)\n",
    "    df = df.sample(frac=0.5, random_state=42)\n",
    "    df['reviewText'] = df['reviewText'].apply(clean_text)\n",
    "\n",
    "    reviews = np.array(df['reviewText'])\n",
    "    ratings = np.array(df['overall'])\n",
    "    \n",
    "    return reviews, ratings\n",
    "\n",
    "review, sentiment = load_data()\n",
    "MAX_WORDS = 400  # Maximum number of words allowed in a review\n",
    "\n",
    "# Cut reviews with more than 400 words to 400 words\n",
    "review = [r[:MAX_WORDS] if len(r.split()) > MAX_WORDS else r for r in review]"
   ]
  },
  {
   "cell_type": "code",
   "execution_count": 4,
   "metadata": {},
   "outputs": [
    {
     "data": {
      "image/png": "[encoded data removed]",
      "text/plain": [
       "<Figure size 640x480 with 1 Axes>"
      ]
     },
     "metadata": {},
     "output_type": "display_data"
    }
   ],
   "source": [
    "# Count the occurrences of each value\n",
    "unique_values, counts = np.unique(sentiment, return_counts=True)\n",
    "\n",
    "# Create x-axis values\n",
    "x = np.arange(len(unique_values))\n",
    "\n",
    "# Plot the counts as a bar plot\n",
    "plt.bar(x, counts, tick_label=unique_values, align='center')\n",
    "\n",
    "# Add labels and title\n",
    "plt.xlabel('Values')\n",
    "plt.ylabel('Count')\n",
    "plt.title('Value Counts')\n",
    "\n",
    "# Show the plot\n",
    "plt.show()"
   ]
  },
  {
   "cell_type": "code",
   "execution_count": 5,
   "metadata": {},
   "outputs": [
    {
     "name": "stdout",
     "output_type": "stream",
     "text": [
      "Review length (in words):\n",
      "Mean 138.92 words (89.235298)\n"
     ]
    },
    {
     "data": {
      "image/png": "[encoded data removed]",
      "text/plain": [
       "<Figure size 640x480 with 1 Axes>"
      ]
     },
     "metadata": {},
     "output_type": "display_data"
    }
   ],
   "source": [
    "# Summarize review length in words\n",
    "print(\"Review length (in words):\")\n",
    "result = [len(x.split()) for x in review]\n",
    "print(\"Mean %.2f words (%f)\" % (np.mean(result), np.std(result)))\n",
    "\n",
    "# Plot review length\n",
    "plt.boxplot(result)\n",
    "plt.xlabel('Reviews')\n",
    "plt.ylabel('Number of Words')\n",
    "plt.title('Review Length Distribution')\n",
    "plt.show()\n",
    "del result"
   ]
  },
  {
   "cell_type": "code",
   "execution_count": 4,
   "metadata": {},
   "outputs": [
    {
     "name": "stderr",
     "output_type": "stream",
     "text": [
      "c:\\Users\\steve\\.conda\\envs\\global\\lib\\site-packages\\tqdm\\auto.py:21: TqdmWarning: IProgress not found. Please update jupyter and ipywidgets. See https://ipywidgets.readthedocs.io/en/stable/user_install.html\n",
      "  from .autonotebook import tqdm as notebook_tqdm\n"
     ]
    }
   ],
   "source": [
    "from transformers import BertTokenizer\n",
    "import tensorflow as tf\n",
    "from keras.utils import to_categorical\n",
    "\n",
    "def preprocess_data(reviews, sentiment):\n",
    "    # Initialize the BERT tokenizer\n",
    "    tokenizer = BertTokenizer.from_pretrained('prajjwal1/bert-tiny')\n",
    "\n",
    "    # Tokenization and Conversion to Input IDs\n",
    "    input_ids = []\n",
    "    attention_masks = []\n",
    "    max_sequence_length = 400  # Set your desired sequence length\n",
    "\n",
    "    for review in reviews:\n",
    "        encoded_dict = tokenizer.encode_plus(\n",
    "            review,\n",
    "            truncation=True,\n",
    "            max_length=max_sequence_length,\n",
    "            padding='max_length',\n",
    "            return_attention_mask=True,\n",
    "            return_tensors='tf'\n",
    "        )\n",
    "        input_ids.append(encoded_dict['input_ids'])\n",
    "        attention_masks.append(encoded_dict['attention_mask'])\n",
    "\n",
    "    input_ids = tf.concat(input_ids, axis=0)\n",
    "    attention_masks = tf.concat(attention_masks, axis=0)\n",
    "\n",
    "    # Encoding Labels\n",
    "    sentiment_encoded = to_categorical(np.array(sentiment) - 1) # Convert sentiment labels to categorical (0-based index)\n",
    "\n",
    "    return np.array(input_ids), np.array(attention_masks), sentiment_encoded\n",
    "\n",
    "input_ids, attention_masks, sentiment_encoded = preprocess_data(review, sentiment)"
   ]
  },
  {
   "cell_type": "code",
   "execution_count": 5,
   "metadata": {},
   "outputs": [],
   "source": [
    "from sklearn.model_selection import train_test_split\n",
    "\n",
    "# Split the data using train_test_split\n",
    "x_train, x_test, y_train, y_test, z_train, z_test = train_test_split(\n",
    "    input_ids, sentiment_encoded, attention_masks,\n",
    "    test_size=0.2, stratify=sentiment_encoded\n",
    ")"
   ]
  },
  {
   "cell_type": "code",
   "execution_count": 3,
   "metadata": {},
   "outputs": [],
   "source": [
    "from keras import backend as K\n",
    "def star_mae(y_true, y_pred):\n",
    "    true_star = K.sum(y_true * K.arange(0, 5, dtype=\"float32\"), axis=-1)\n",
    "    pred_star = K.sum(y_pred * K.arange(0, 5, dtype=\"float32\"), axis=-1)\n",
    "    mae = K.mean(K.abs(true_star - pred_star))\n",
    "    return mae"
   ]
  },
  {
   "cell_type": "code",
   "execution_count": 4,
   "metadata": {},
   "outputs": [
    {
     "name": "stderr",
     "output_type": "stream",
     "text": [
      "c:\\Users\\steve\\.conda\\envs\\global\\lib\\site-packages\\tqdm\\auto.py:21: TqdmWarning: IProgress not found. Please update jupyter and ipywidgets. See https://ipywidgets.readthedocs.io/en/stable/user_install.html\n",
      "  from .autonotebook import tqdm as notebook_tqdm\n",
      "Some weights of the PyTorch model were not used when initializing the TF 2.0 model TFBertModel: ['cls.predictions.transform.LayerNorm.bias', 'cls.predictions.decoder.bias', 'cls.predictions.bias', 'bert.embeddings.position_ids', 'cls.predictions.transform.LayerNorm.weight', 'cls.seq_relationship.weight', 'cls.seq_relationship.bias', 'cls.predictions.transform.dense.weight', 'cls.predictions.transform.dense.bias', 'cls.predictions.decoder.weight']\n",
      "- This IS expected if you are initializing TFBertModel from a PyTorch model trained on another task or with another architecture (e.g. initializing a TFBertForSequenceClassification model from a BertForPreTraining model).\n",
      "- This IS NOT expected if you are initializing TFBertModel from a PyTorch model that you expect to be exactly identical (e.g. initializing a TFBertForSequenceClassification model from a BertForSequenceClassification model).\n",
      "All the weights of TFBertModel were initialized from the PyTorch model.\n",
      "If your task is similar to the task the model of the checkpoint was trained on, you can already use TFBertModel for predictions without further training.\n"
     ]
    },
    {
     "name": "stdout",
     "output_type": "stream",
     "text": [
      "Model: \"model\"\n",
      "__________________________________________________________________________________________________\n",
      " Layer (type)                   Output Shape         Param #     Connected to                     \n",
      "==================================================================================================\n",
      " input_ids (InputLayer)         [(None, 400)]        0           []                               \n",
      "                                                                                                  \n",
      " attention_mask (InputLayer)    [(None, 400)]        0           []                               \n",
      "                                                                                                  \n",
      " tf_bert_model (TFBertModel)    TFBaseModelOutputWi  4385920     ['input_ids[0][0]',              \n",
      "                                thPoolingAndCrossAt               'attention_mask[0][0]']         \n",
      "                                tentions(last_hidde                                               \n",
      "                                n_state=(None, 400,                                               \n",
      "                                 128),                                                            \n",
      "                                 pooler_output=(Non                                               \n",
      "                                e, 128),                                                          \n",
      "                                 past_key_values=No                                               \n",
      "                                ne, hidden_states=N                                               \n",
      "                                one, attentions=Non                                               \n",
      "                                e, cross_attentions                                               \n",
      "                                =None)                                                            \n",
      "                                                                                                  \n",
      " tf.__operators__.getitem (Slic  (None, 128)         0           ['tf_bert_model[0][0]']          \n",
      " ingOpLambda)                                                                                     \n",
      "                                                                                                  \n",
      " batch_normalization (BatchNorm  (None, 128)         512         ['tf.__operators__.getitem[0][0]'\n",
      " alization)                                                      ]                                \n",
      "                                                                                                  \n",
      " dense (Dense)                  (None, 128)          16512       ['batch_normalization[0][0]']    \n",
      "                                                                                                  \n",
      " dropout_7 (Dropout)            (None, 128)          0           ['dense[0][0]']                  \n",
      "                                                                                                  \n",
      " dense_1 (Dense)                (None, 32)           4128        ['dropout_7[0][0]']              \n",
      "                                                                                                  \n",
      " dense_2 (Dense)                (None, 5)            165         ['dense_1[0][0]']                \n",
      "                                                                                                  \n",
      "==================================================================================================\n",
      "Total params: 4,407,237\n",
      "Trainable params: 4,406,981\n",
      "Non-trainable params: 256\n",
      "__________________________________________________________________________________________________\n"
     ]
    }
   ],
   "source": [
    "from transformers import TFAutoModel\n",
    "from keras.layers import Dense, Input, Dropout, BatchNormalization\n",
    "from keras.models import Model\n",
    "\n",
    "# Load pre-trained tinyBERT model\n",
    "tinybert_model = TFAutoModel.from_pretrained('prajjwal1/bert-tiny', from_pt=True)\n",
    "\n",
    "# Input layers\n",
    "input_ids = Input(shape=(400,), dtype=np.int32, name='input_ids')\n",
    "attention_mask = Input(shape=(400,), dtype=np.int32, name='attention_mask')\n",
    "\n",
    "# tinyBERT embeddings\n",
    "outputs = tinybert_model(input_ids, attention_mask=attention_mask)\n",
    "pooled_output = outputs[0][:, 0, :]  # Extract pooled output (CLS token)\n",
    "\n",
    "# Keras layers\n",
    "x = BatchNormalization()(pooled_output)\n",
    "x = Dense(128, activation='gelu')(x)\n",
    "x = Dropout(0.2)(x)\n",
    "x = Dense(32, activation='gelu')(x)\n",
    "\n",
    "# Output layer\n",
    "output = Dense(5, activation='softmax')(x)\n",
    "\n",
    "# Create the model\n",
    "model = Model(inputs=[input_ids, attention_mask], outputs=output)\n",
    "\n",
    "# Compile the model\n",
    "model.compile(loss='categorical_crossentropy', optimizer='adam', metrics=star_mae)\n",
    "model.summary()\n",
    "model.load_weights('Weights/Sentiment Analysis Transformer.h5')  "
   ]
  },
  {
   "cell_type": "code",
   "execution_count": null,
   "metadata": {},
   "outputs": [
    {
     "name": "stdout",
     "output_type": "stream",
     "text": [
      "Model: \"model_1\"\n",
      "__________________________________________________________________________________________________\n",
      " Layer (type)                   Output Shape         Param #     Connected to                     \n",
      "==================================================================================================\n",
      " input_2 (InputLayer)           [(None, 200)]        0           []                               \n",
      "                                                                                                  \n",
      " embedding_1 (Embedding)        (None, 200, 128)     25600       ['input_2[0][0]']                \n",
      "                                                                                                  \n",
      " positional_encoding_1 (Positio  (None, 200, 128)    0           ['embedding_1[0][0]']            \n",
      " nalEncoding)                                                                                     \n",
      "                                                                                                  \n",
      " multi_head_attention_4 (MultiH  (None, 200, 128)    527488      ['positional_encoding_1[0][0]',  \n",
      " eadAttention)                                                    'positional_encoding_1[0][0]']  \n",
      "                                                                                                  \n",
      " dropout_9 (Dropout)            (None, 200, 128)     0           ['multi_head_attention_4[0][0]'] \n",
      "                                                                                                  \n",
      " tf.__operators__.add_8 (TFOpLa  (None, 200, 128)    0           ['positional_encoding_1[0][0]',  \n",
      " mbda)                                                            'dropout_9[0][0]']              \n",
      "                                                                                                  \n",
      " layer_normalization_8 (LayerNo  (None, 200, 128)    256         ['tf.__operators__.add_8[0][0]'] \n",
      " rmalization)                                                                                     \n",
      "                                                                                                  \n",
      " dense_9 (Dense)                (None, 200, 512)     66048       ['layer_normalization_8[0][0]']  \n",
      "                                                                                                  \n",
      " dense_10 (Dense)               (None, 200, 128)     65664       ['dense_9[0][0]']                \n",
      "                                                                                                  \n",
      " dropout_10 (Dropout)           (None, 200, 128)     0           ['dense_10[0][0]']               \n",
      "                                                                                                  \n",
      " tf.__operators__.add_9 (TFOpLa  (None, 200, 128)    0           ['layer_normalization_8[0][0]',  \n",
      " mbda)                                                            'dropout_10[0][0]']             \n",
      "                                                                                                  \n",
      " layer_normalization_9 (LayerNo  (None, 200, 128)    256         ['tf.__operators__.add_9[0][0]'] \n",
      " rmalization)                                                                                     \n",
      "                                                                                                  \n",
      " multi_head_attention_5 (MultiH  (None, 200, 128)    527488      ['layer_normalization_9[0][0]',  \n",
      " eadAttention)                                                    'layer_normalization_9[0][0]']  \n",
      "                                                                                                  \n",
      " dropout_11 (Dropout)           (None, 200, 128)     0           ['multi_head_attention_5[0][0]'] \n",
      "                                                                                                  \n",
      " tf.__operators__.add_10 (TFOpL  (None, 200, 128)    0           ['layer_normalization_9[0][0]',  \n",
      " ambda)                                                           'dropout_11[0][0]']             \n",
      "                                                                                                  \n",
      " layer_normalization_10 (LayerN  (None, 200, 128)    256         ['tf.__operators__.add_10[0][0]']\n",
      " ormalization)                                                                                    \n",
      "                                                                                                  \n",
      " dense_11 (Dense)               (None, 200, 512)     66048       ['layer_normalization_10[0][0]'] \n",
      "                                                                                                  \n",
      " dense_12 (Dense)               (None, 200, 128)     65664       ['dense_11[0][0]']               \n",
      "                                                                                                  \n",
      " dropout_12 (Dropout)           (None, 200, 128)     0           ['dense_12[0][0]']               \n",
      "                                                                                                  \n",
      " tf.__operators__.add_11 (TFOpL  (None, 200, 128)    0           ['layer_normalization_10[0][0]', \n",
      " ambda)                                                           'dropout_12[0][0]']             \n",
      "                                                                                                  \n",
      " layer_normalization_11 (LayerN  (None, 200, 128)    256         ['tf.__operators__.add_11[0][0]']\n",
      " ormalization)                                                                                    \n",
      "                                                                                                  \n",
      " multi_head_attention_6 (MultiH  (None, 200, 128)    527488      ['layer_normalization_11[0][0]', \n",
      " eadAttention)                                                    'layer_normalization_11[0][0]'] \n",
      "                                                                                                  \n",
      " dropout_13 (Dropout)           (None, 200, 128)     0           ['multi_head_attention_6[0][0]'] \n",
      "                                                                                                  \n",
      " tf.__operators__.add_12 (TFOpL  (None, 200, 128)    0           ['layer_normalization_11[0][0]', \n",
      " ambda)                                                           'dropout_13[0][0]']             \n",
      "                                                                                                  \n",
      " layer_normalization_12 (LayerN  (None, 200, 128)    256         ['tf.__operators__.add_12[0][0]']\n",
      " ormalization)                                                                                    \n",
      "                                                                                                  \n",
      " dense_13 (Dense)               (None, 200, 512)     66048       ['layer_normalization_12[0][0]'] \n",
      "                                                                                                  \n",
      " dense_14 (Dense)               (None, 200, 128)     65664       ['dense_13[0][0]']               \n",
      "                                                                                                  \n",
      " dropout_14 (Dropout)           (None, 200, 128)     0           ['dense_14[0][0]']               \n",
      "                                                                                                  \n",
      " tf.__operators__.add_13 (TFOpL  (None, 200, 128)    0           ['layer_normalization_12[0][0]', \n",
      " ambda)                                                           'dropout_14[0][0]']             \n",
      "                                                                                                  \n",
      " layer_normalization_13 (LayerN  (None, 200, 128)    256         ['tf.__operators__.add_13[0][0]']\n",
      " ormalization)                                                                                    \n",
      "                                                                                                  \n",
      " multi_head_attention_7 (MultiH  (None, 200, 128)    527488      ['layer_normalization_13[0][0]', \n",
      " eadAttention)                                                    'layer_normalization_13[0][0]'] \n",
      "                                                                                                  \n",
      " dropout_15 (Dropout)           (None, 200, 128)     0           ['multi_head_attention_7[0][0]'] \n",
      "                                                                                                  \n",
      " tf.__operators__.add_14 (TFOpL  (None, 200, 128)    0           ['layer_normalization_13[0][0]', \n",
      " ambda)                                                           'dropout_15[0][0]']             \n",
      "                                                                                                  \n",
      " layer_normalization_14 (LayerN  (None, 200, 128)    256         ['tf.__operators__.add_14[0][0]']\n",
      " ormalization)                                                                                    \n",
      "                                                                                                  \n",
      " dense_15 (Dense)               (None, 200, 512)     66048       ['layer_normalization_14[0][0]'] \n",
      "                                                                                                  \n",
      " dense_16 (Dense)               (None, 200, 128)     65664       ['dense_15[0][0]']               \n",
      "                                                                                                  \n",
      " dropout_16 (Dropout)           (None, 200, 128)     0           ['dense_16[0][0]']               \n",
      "                                                                                                  \n",
      " tf.__operators__.add_15 (TFOpL  (None, 200, 128)    0           ['layer_normalization_14[0][0]', \n",
      " ambda)                                                           'dropout_16[0][0]']             \n",
      "                                                                                                  \n",
      " layer_normalization_15 (LayerN  (None, 200, 128)    256         ['tf.__operators__.add_15[0][0]']\n",
      " ormalization)                                                                                    \n",
      "                                                                                                  \n",
      " global_average_pooling1d_1 (Gl  (None, 128)         0           ['layer_normalization_15[0][0]'] \n",
      " obalAveragePooling1D)                                                                            \n",
      "                                                                                                  \n",
      " dropout_17 (Dropout)           (None, 128)          0           ['global_average_pooling1d_1[0][0\n",
      "                                                                 ]']                              \n",
      "                                                                                                  \n",
      " dense_17 (Dense)               (None, 5)            645         ['dropout_17[0][0]']             \n",
      "                                                                                                  \n",
      "==================================================================================================\n",
      "Total params: 2,665,093\n",
      "Trainable params: 2,665,093\n",
      "Non-trainable params: 0\n",
      "__________________________________________________________________________________________________\n"
     ]
    }
   ],
   "source": [
    "# import tensorflow as tf\n",
    "# from keras.layers import Dense, Input, Dropout, LayerNormalization, MultiHeadAttention, Embedding, GlobalAveragePooling1D, Layer\n",
    "# from keras.models import Model\n",
    "\n",
    "# class PositionalEncoding(Layer):\n",
    "#     def __init__(self):\n",
    "#         super(PositionalEncoding, self).__init__()\n",
    "\n",
    "#     def call(self, inputs):\n",
    "#         seq_length = tf.shape(inputs)[1]\n",
    "#         d_model = inputs.shape[2]\n",
    "#         position = tf.reshape(tf.range(seq_length, dtype=tf.float32), (1, seq_length, 1))\n",
    "#         div_term = tf.exp(-tf.math.log(10000.0) * tf.range(0, d_model, 2, dtype=tf.float32) / d_model)\n",
    "#         pos_enc = tf.concat([tf.sin(position * div_term), tf.cos(position * div_term)], axis=-1)\n",
    "#         return inputs + pos_enc\n",
    "\n",
    "# def TransformerModel(input_shape, num_classes, num_blocks=4, d_model=128, num_heads=8, dff=512, dropout_rate=0.1):\n",
    "#     inputs = Input(shape=input_shape)\n",
    "#     x = Embedding(input_dim=input_shape[0], output_dim=d_model)(inputs)\n",
    "#     x = PositionalEncoding()(x)\n",
    "    \n",
    "#     for _ in range(num_blocks):\n",
    "#         # Multi-head self-attention\n",
    "#         attn_output = MultiHeadAttention(num_heads=num_heads, key_dim=d_model)(x, x)\n",
    "#         attn_output = Dropout(dropout_rate)(attn_output)\n",
    "#         x = LayerNormalization(epsilon=1e-6)(x + attn_output)\n",
    "\n",
    "#         # Feed-forward neural network\n",
    "#         ffn_output = Dense(dff, activation='relu')(x)\n",
    "#         ffn_output = Dense(d_model)(ffn_output)\n",
    "#         ffn_output = Dropout(dropout_rate)(ffn_output)\n",
    "#         x = LayerNormalization(epsilon=1e-6)(x + ffn_output)\n",
    "\n",
    "#     x = GlobalAveragePooling1D()(x)\n",
    "#     x = Dropout(dropout_rate)(x)\n",
    "#     outputs = Dense(num_classes, activation='softmax')(x)\n",
    "\n",
    "#     model = Model(inputs=inputs, outputs=outputs)\n",
    "#     return model\n",
    "\n",
    "# # Example usage\n",
    "# input_shape = (200, )  # Sequence length of 100\n",
    "# num_classes = 5  # 5 sentiment classes\n",
    "# model = TransformerModel(input_shape, num_classes)\n",
    "\n",
    "# # Print model summary\n",
    "# model.summary()\n",
    "# model.compile(loss='categorical_crossentropy', optimizer='adam', metrics=['accuracy'])\n",
    "# # model.load_weights(\"Weights/Sentiment Analysis Transformer.h5\")"
   ]
  },
  {
   "cell_type": "code",
   "execution_count": 8,
   "metadata": {},
   "outputs": [],
   "source": [
    "from keras.callbacks import EarlyStopping\n",
    "early_stopping = EarlyStopping(\n",
    "    monitor='star_mae', \n",
    "    patience=2, \n",
    "    mode='min'\n",
    ")"
   ]
  },
  {
   "cell_type": "code",
   "execution_count": 9,
   "metadata": {},
   "outputs": [
    {
     "name": "stdout",
     "output_type": "stream",
     "text": [
      "Epoch 1/10\n",
      "WARNING:tensorflow:Gradients do not exist for variables ['tf_bert_model/bert/pooler/dense/kernel:0', 'tf_bert_model/bert/pooler/dense/bias:0'] when minimizing the loss. If you're using `model.compile()`, did you forget to provide a `loss` argument?\n",
      "WARNING:tensorflow:Gradients do not exist for variables ['tf_bert_model/bert/pooler/dense/kernel:0', 'tf_bert_model/bert/pooler/dense/bias:0'] when minimizing the loss. If you're using `model.compile()`, did you forget to provide a `loss` argument?\n",
      "1943/1943 [==============================] - 204s 102ms/step - loss: 1.0159 - star_mae: 0.6318 - val_loss: 0.9771 - val_star_mae: 0.6172\n",
      "Epoch 2/10\n",
      "1943/1943 [==============================] - 198s 102ms/step - loss: 0.8712 - star_mae: 0.5272 - val_loss: 1.0301 - val_star_mae: 0.5865\n",
      "Epoch 3/10\n",
      "1943/1943 [==============================] - 198s 102ms/step - loss: 0.6922 - star_mae: 0.4032 - val_loss: 1.1534 - val_star_mae: 0.6073\n",
      "Epoch 4/10\n",
      "1943/1943 [==============================] - 202s 104ms/step - loss: 0.5210 - star_mae: 0.2970 - val_loss: 1.3774 - val_star_mae: 0.6124\n",
      "Epoch 5/10\n",
      "1943/1943 [==============================] - 200s 103ms/step - loss: 0.4086 - star_mae: 0.2319 - val_loss: 1.5502 - val_star_mae: 0.6250\n",
      "Epoch 6/10\n",
      "1943/1943 [==============================] - 201s 103ms/step - loss: 0.3255 - star_mae: 0.1845 - val_loss: 1.7764 - val_star_mae: 0.6191\n",
      "Epoch 7/10\n",
      "1943/1943 [==============================] - 197s 102ms/step - loss: 0.2707 - star_mae: 0.1559 - val_loss: 1.7838 - val_star_mae: 0.6314\n",
      "Epoch 8/10\n",
      "1943/1943 [==============================] - 199s 102ms/step - loss: 0.2291 - star_mae: 0.1338 - val_loss: 2.2452 - val_star_mae: 0.6412\n",
      "Epoch 9/10\n",
      "1943/1943 [==============================] - 198s 102ms/step - loss: 0.1975 - star_mae: 0.1160 - val_loss: 2.2511 - val_star_mae: 0.6228\n",
      "Epoch 10/10\n",
      "1943/1943 [==============================] - 208s 107ms/step - loss: 0.1708 - star_mae: 0.1018 - val_loss: 2.5550 - val_star_mae: 0.6385\n"
     ]
    },
    {
     "data": {
      "text/plain": [
       "<keras.callbacks.History at 0x20418ad5780>"
      ]
     },
     "execution_count": 9,
     "metadata": {},
     "output_type": "execute_result"
    }
   ],
   "source": [
    "model.fit([x_train, z_train], y_train,\n",
    "          epochs=10, \n",
    "          verbose=1,\n",
    "          validation_data=([x_test, z_test], y_test),\n",
    "          callbacks=[early_stopping]\n",
    ")"
   ]
  },
  {
   "cell_type": "code",
   "execution_count": 10,
   "metadata": {},
   "outputs": [],
   "source": [
    "#Save model\n",
    "model.save('Weights/Sentiment Analysis Transformer.h5')  "
   ]
  },
  {
   "cell_type": "code",
   "execution_count": 5,
   "metadata": {},
   "outputs": [],
   "source": [
    "from transformers import BertTokenizer\n",
    "\n",
    "def preprocessing_data(review, tokenizer = BertTokenizer.from_pretrained('prajjwal1/bert-tiny')):\n",
    "    encoded_dict = tokenizer.encode_plus(\n",
    "            review,\n",
    "            truncation=True,\n",
    "            max_length=400,\n",
    "            padding='max_length',\n",
    "            return_attention_mask=True,\n",
    "            return_tensors='tf'\n",
    "        )\n",
    "    \n",
    "    input_id = np.array(encoded_dict['input_ids'])\n",
    "    attention_mask = np.array(encoded_dict['attention_mask'])\n",
    "    \n",
    "    return input_id, attention_mask"
   ]
  },
  {
   "cell_type": "code",
   "execution_count": 8,
   "metadata": {},
   "outputs": [
    {
     "name": "stdout",
     "output_type": "stream",
     "text": [
      "1/1 [==============================] - 0s 35ms/step\n"
     ]
    },
    {
     "data": {
      "text/plain": [
       "5"
      ]
     },
     "execution_count": 8,
     "metadata": {},
     "output_type": "execute_result"
    }
   ],
   "source": [
    "star = [1, 2, 3, 4, 5]\n",
    "text = input()\n",
    "text = clean_text(text)\n",
    "input_id, attention_mask = preprocessing_data(text)\n",
    "result = np.argmax(model.predict([input_id, attention_mask]))\n",
    "star[result]"
   ]
  }
 ],
 "metadata": {
  "kernelspec": {
   "display_name": "global",
   "language": "python",
   "name": "python3"
  },
  "language_info": {
   "codemirror_mode": {
    "name": "ipython",
    "version": 3
   },
   "file_extension": ".py",
   "mimetype": "text/x-python",
   "name": "python",
   "nbconvert_exporter": "python",
   "pygments_lexer": "ipython3",
   "version": "3.10.10"
  },
  "orig_nbformat": 4
 },
 "nbformat": 4,
 "nbformat_minor": 2
}
